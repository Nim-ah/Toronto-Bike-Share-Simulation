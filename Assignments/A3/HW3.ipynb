{
 "cells": [
  {
   "attachments": {},
   "cell_type": "markdown",
   "metadata": {},
   "source": [
    "# MIE 1613 A3 \n",
    "- Due Date: 2023-03-22\n",
    "- Name: William Hazen\n",
    "- Student ID: 1009231225\n",
    "- Department: MIE\n",
    "- Program: M.Eng."
   ]
  },
  {
   "cell_type": "code",
   "execution_count": 2,
   "metadata": {},
   "outputs": [],
   "source": [
    "import pandas as pd\n",
    "import numpy as np\n",
    "import seaborn as sns\n",
    "import matplotlib.pyplot as plt\n",
    "import warnings\n",
    "import math\n",
    "from scipy.stats import probplot\n",
    "from scipy.stats import norm\n",
    "warnings.filterwarnings(\"ignore\")\n",
    "# fix random number seed\n",
    "np.random.seed(1)"
   ]
  },
  {
   "cell_type": "code",
   "execution_count": 1,
   "metadata": {},
   "outputs": [],
   "source": [
    "import SimRNG\n",
    "import SimClasses\n",
    "import SimFunctions"
   ]
  },
  {
   "attachments": {},
   "cell_type": "markdown",
   "metadata": {},
   "source": [
    "# **1.**"
   ]
  },
  {
   "attachments": {},
   "cell_type": "markdown",
   "metadata": {},
   "source": [
    "### **1a)**"
   ]
  },
  {
   "cell_type": "code",
   "execution_count": null,
   "metadata": {},
   "outputs": [],
   "source": [
    "semiconductordata_df = pd.read_excel(\"SemiconductorData.xls\")\n",
    "semiconductordata_df.head()"
   ]
  },
  {
   "cell_type": "code",
   "execution_count": null,
   "metadata": {},
   "outputs": [],
   "source": [
    "new_SCD_df = semiconductordata_df"
   ]
  },
  {
   "cell_type": "code",
   "execution_count": null,
   "metadata": {},
   "outputs": [],
   "source": [
    "new_SCD_df[\"LOAD/UNLOAD\"] = semiconductordata_df.iloc[:, 1]"
   ]
  },
  {
   "cell_type": "code",
   "execution_count": null,
   "metadata": {},
   "outputs": [],
   "source": [
    "new_SCD_df.iloc[0]\n"
   ]
  },
  {
   "attachments": {},
   "cell_type": "markdown",
   "metadata": {},
   "source": [
    "### **1b)**"
   ]
  },
  {
   "cell_type": "code",
   "execution_count": null,
   "metadata": {},
   "outputs": [],
   "source": []
  },
  {
   "attachments": {},
   "cell_type": "markdown",
   "metadata": {},
   "source": [
    "# **2.**"
   ]
  },
  {
   "cell_type": "code",
   "execution_count": null,
   "metadata": {},
   "outputs": [],
   "source": [
    "\n",
    "def Drone_Sim (s):\n",
    "    ZSimRNG = SimRNG.InitializeRNSeed()\n",
    "\n",
    "    Queue = SimClasses.FIFOQueue()\n",
    "    Wait = SimClasses.DTStat()\n",
    "    Server = SimClasses.Resource()\n",
    "    Calendar = SimClasses.EventCalendar()\n",
    "\n",
    "    TheCTStats = []\n",
    "    TheDTStats = []\n",
    "    TheQueues = []\n",
    "    TheResources = []\n",
    "\n",
    "    TheDTStats.append(Wait)\n",
    "    TheQueues.append(Queue)\n",
    "    TheResources.append(Server)\n",
    "\n",
    "    Server.SetUnits(s)  # changed SetUnits(1) to SetUnits(s)\n",
    "    MeanTBA = 1.0\n",
    "    MeanDroneRate = 3/4  # 45min\n",
    "    RunLength = 24*60\n",
    "\n",
    "    # WarmUp = #5000.0\n",
    "\n",
    "    AllWaitMean = []\n",
    "    AllQueueMean = []\n",
    "    AllQueueNum = []\n",
    "    AllServerMean = []\n",
    "\n",
    "    def Call_Rate():\n",
    "\n",
    "        if SimClasses.Clock < 6:\n",
    "            call_rate = 4  # 7am-12pm\n",
    "        elif SimClasses.Clock < 13:\n",
    "            call_rate = 2  # 12pm-12am\n",
    "        else:\n",
    "            call_rate = 1  # 12am-7am\n",
    "\n",
    "        return call_rate\n",
    "\n",
    "    def CI_95(data):    # define 95% confidence interval function\n",
    "        a = np.array(data)\n",
    "        n = len(a)\n",
    "        m = np.mean(a)\n",
    "        sd = np.std(a, ddof=1)\n",
    "        hw = 1.96*sd / np.sqrt(n)\n",
    "        return m, m-hw, m+hw\n",
    "\n",
    "    def Arrival():\n",
    "        SimFunctions.Schedule(Calendar, \"Arrival\", SimRNG.Expon(MeanTBA, 1))\n",
    "        Customer = SimClasses.Entity()\n",
    "        Queue.Add(Customer)\n",
    "\n",
    "        if Server.Busy < s:\n",
    "            if Server.Busy >= 0:\n",
    "                Server.Seize(1)\n",
    "                SimFunctions.Schedule(\n",
    "                    Calendar, \"EndOfService\", SimRNG.Expon(MeanDroneRate, 2))\n",
    "        else:\n",
    "            pass\n",
    "\n",
    "    def EndOfService():\n",
    "        DepartingCustomer = Queue.Remove()\n",
    "        if DepartingCustomer is not None:\n",
    "            Wait.Record(SimClasses.Clock - DepartingCustomer.CreateTime)\n",
    "            # modified EndOfService function to account for more than one server\n",
    "            # We only record a time if there is a DepartingCustomer\n",
    "        else:\n",
    "            pass\n",
    "\n",
    "        # if Queue.NumQueue() >= s:\n",
    "        #     SimFunctions.Schedule(Calendar, \"EndOfService\",\n",
    "        #                           SimRNG.Erlang(Phases, MeanDroneRate, 2))\n",
    "        # else:\n",
    "        #     Server.Free(1)\n",
    "\n",
    "\n",
    "    for reps in range(0, 1000, 1):  # 1000 repetitions\n",
    "\n",
    "        SimFunctions.SimFunctionsInit(Calendar, TheQueues, TheCTStats, TheDTStats, TheResources)\n",
    "        SimFunctions.Schedule(Calendar, \"Arrival\", SimRNG.Expon(MeanTBA, 1))\n",
    "        SimFunctions.Schedule(Calendar, \"EndSimulation\", RunLength)\n",
    "        # SimFunctions.Schedule(Calendar, \"ClearIt\", WarmUp)\n",
    "\n",
    "        NextEvent = Calendar.Remove()\n",
    "        SimClasses.Clock = NextEvent.EventTime\n",
    "        if NextEvent.EventType == \"Arrival\":\n",
    "            Arrival()\n",
    "        elif NextEvent.EventType == \"EndOfService\":\n",
    "            EndOfService()\n",
    "        # elif NextEvent.EventType == \"ClearIt\":\n",
    "        #     SimFunctions.ClearStats(TheCTStats, TheDTStats)\n",
    "\n",
    "        while NextEvent.EventType != \"EndSimulation\":\n",
    "            NextEvent = Calendar.Remove()\n",
    "            SimClasses.Clock = NextEvent.EventTime\n",
    "            if NextEvent.EventType == \"Arrival\":\n",
    "                Arrival()\n",
    "            elif NextEvent.EventType == \"EndOfService\":\n",
    "                EndOfService()\n",
    "            # elif NextEvent.EventType == \"ClearIt\":\n",
    "            #     SimFunctions.ClearStats(TheCTStats, TheDTStats)\n",
    "\n",
    "        AllWaitMean.append(Wait.Mean())\n",
    "        AllQueueMean.append(Queue.Mean())\n",
    "        AllQueueNum.append(Queue.NumQueue())\n",
    "        AllServerMean.append(Server.Mean())\n",
    "\n",
    "        output = {\"AllWaitMean\": AllWaitMean, \"CI_95 (-)\": CI_95(AllWaitMean)[1], \"CI_95 (+)\": CI_95(AllWaitMean)[2], \"AllQueueMean\": np.mean(AllQueueMean), \"AllServerMean:\": np.mean(AllServerMean)}\n",
    "    return pd.DataFrame(output)\n"
   ]
  },
  {
   "attachments": {},
   "cell_type": "markdown",
   "metadata": {},
   "source": [
    "### **2a)**"
   ]
  },
  {
   "attachments": {},
   "cell_type": "markdown",
   "metadata": {},
   "source": [
    "- The model I choose to estimate the minimum number of drones that will be readliy available at the event of a cardiac arrest is the MGS queue. This decision was choosen based on the model following a queuing system with an arrival rate that is assumed to be non-homogeneous Possion process."
   ]
  },
  {
   "attachments": {},
   "cell_type": "markdown",
   "metadata": {},
   "source": [
    "### **2b)**"
   ]
  },
  {
   "cell_type": "code",
   "execution_count": null,
   "metadata": {},
   "outputs": [],
   "source": [
    "d = 1000\n",
    "df_2a = Drone_Sim(d)"
   ]
  },
  {
   "cell_type": "code",
   "execution_count": null,
   "metadata": {},
   "outputs": [],
   "source": [
    "df_2a"
   ]
  },
  {
   "cell_type": "code",
   "execution_count": null,
   "metadata": {},
   "outputs": [],
   "source": []
  },
  {
   "attachments": {},
   "cell_type": "markdown",
   "metadata": {},
   "source": [
    "# **3.**"
   ]
  },
  {
   "attachments": {},
   "cell_type": "markdown",
   "metadata": {},
   "source": [
    "### **3a)**"
   ]
  },
  {
   "cell_type": "code",
   "execution_count": null,
   "metadata": {},
   "outputs": [],
   "source": [
    "TSLA_df = pd.read_csv(\"TSLA.csv\")\n",
    "TSLA_df.head()"
   ]
  },
  {
   "cell_type": "code",
   "execution_count": null,
   "metadata": {},
   "outputs": [],
   "source": [
    "TSLA_df.Date.sort_values(ascending=True)"
   ]
  },
  {
   "cell_type": "code",
   "execution_count": null,
   "metadata": {},
   "outputs": [],
   "source": [
    "TSLA_df\n"
   ]
  },
  {
   "cell_type": "code",
   "execution_count": null,
   "metadata": {},
   "outputs": [],
   "source": [
    "TSLA_df[\"log_returns\"] = np.log(TSLA_df['Close'] / TSLA_df['Close'].shift(1))\n"
   ]
  },
  {
   "cell_type": "code",
   "execution_count": null,
   "metadata": {},
   "outputs": [],
   "source": [
    "TSLA_df[\"log_returns\"] \n",
    "TSLA_df[\"log_returns\"]\n"
   ]
  },
  {
   "cell_type": "code",
   "execution_count": null,
   "metadata": {},
   "outputs": [],
   "source": [
    "tesla_mu = TSLA_df[\"log_returns\"].mean()\n",
    "tesla_sigma = TSLA_df[\"log_returns\"].std(ddof=1)\n",
    "\n",
    "print(tesla_mu, tesla_sigma)\n"
   ]
  },
  {
   "cell_type": "code",
   "execution_count": null,
   "metadata": {},
   "outputs": [],
   "source": [
    "sns.displot(TSLA_df[\"Close\"])\n",
    "plt.title(\"TSLA Close\")\n",
    "plt.show()\n",
    "\n",
    "sns.displot(TSLA_df[\"log_returns\"])\n",
    "plt.title(\"TSLA Log Return\")\n",
    "plt.show()"
   ]
  },
  {
   "cell_type": "code",
   "execution_count": null,
   "metadata": {},
   "outputs": [],
   "source": [
    "np.random.seed(1)\n",
    "\n",
    "n = len(TSLA_df)\n",
    "log_returns_sim = np.random.normal(tesla_mu, tesla_sigma, n)\n",
    "\n",
    "# Simulate future stock prices using GBM model\n",
    "S1 = TSLA_df['Close'].iloc[-1]  \n",
    "Sim_TSLA = []\n",
    "Sim_TSLA.append(S1)\n",
    "for i in range(1, n):\n",
    "    Sim_TSLA.append(Sim_TSLA[i-1] * np.exp(log_returns_sim[i]))\n",
    "\n",
    "plt.figure(figsize=(10,6))\n",
    "plt.plot(TSLA_df['Close'])\n",
    "plt.plot(Sim_TSLA)\n",
    "plt.legend(['Actual', 'Simulated'])\n",
    "plt.title(\"Simulated TSLA Close Price\")\n",
    "plt.xlabel(\"n\")\n",
    "plt.ylabel(\"Close Price\")\n",
    "plt.show()\n"
   ]
  },
  {
   "cell_type": "code",
   "execution_count": null,
   "metadata": {},
   "outputs": [],
   "source": [
    "sns.displot(Sim_TSLA)\n",
    "plt.title(\"Simulated TSLA\")\n",
    "plt.show()\n"
   ]
  },
  {
   "attachments": {},
   "cell_type": "markdown",
   "metadata": {},
   "source": [
    "### **3b)**"
   ]
  },
  {
   "cell_type": "code",
   "execution_count": null,
   "metadata": {},
   "outputs": [],
   "source": [
    "figure = plt.figure(figsize=(20, 5))\n",
    "ax1 = figure.add_subplot(131)\n",
    "ax1 = probplot(TSLA_df[\"Close\"], plot=plt)\n",
    "plt.title(\"TSLA Close\")\n",
    "\n",
    "ax2 = figure.add_subplot(132)\n",
    "ax2 = probplot(TSLA_df[\"log_returns\"], plot=plt)\n",
    "plt.title(\"TSLA Log Returns\")\n",
    "\n",
    "ax3 = figure.add_subplot(133)\n",
    "ax3 = probplot(Sim_TSLA, plot=plt)\n",
    "plt.title(\"Simulated Tesla\")\n",
    "plt.show()\n"
   ]
  },
  {
   "attachments": {},
   "cell_type": "markdown",
   "metadata": {},
   "source": [
    "# **4.**"
   ]
  },
  {
   "attachments": {},
   "cell_type": "markdown",
   "metadata": {},
   "source": [
    "### **4a)**"
   ]
  },
  {
   "cell_type": "code",
   "execution_count": null,
   "metadata": {},
   "outputs": [],
   "source": [
    "x_0 = 0\n",
    "gamma = 2\n",
    "x_list = []\n",
    "x = 0\n",
    "\n",
    "np.random.seed(3)\n",
    "for i in range(1000):\n",
    "    # Fx = 1/np.pi * np.arctan(np.random.uniform() - x_0/ gamma) + 1/2\n",
    "    x = gamma * np.tan((np.random.uniform(0, 1) - 0.5) * np.pi) + x_0\n",
    "    x_list.append(x)"
   ]
  },
  {
   "cell_type": "code",
   "execution_count": null,
   "metadata": {},
   "outputs": [],
   "source": [
    "x_list_plot = sns.displot(x_list)\n",
    "x_list_plot.fig.set_figwidth(15)\n",
    "x_list_plot.fig.set_figheight(6)\n",
    "plt.show()"
   ]
  },
  {
   "attachments": {},
   "cell_type": "markdown",
   "metadata": {},
   "source": [
    "### **4b)**"
   ]
  },
  {
   "cell_type": "code",
   "execution_count": null,
   "metadata": {},
   "outputs": [],
   "source": [
    "sorted_x_list = np.sort(x_list)\n",
    "\n",
    "half_quantile = sorted_x_list[int(1/2 * len(sorted_x_list))]\n",
    "inter_quantile = sorted_x_list[int(3/4 * len(sorted_x_list))] - sorted_x_list[int(1/4 * len(sorted_x_list))]\n",
    "\n",
    "print(half_quantile, inter_quantile)\n"
   ]
  },
  {
   "attachments": {},
   "cell_type": "markdown",
   "metadata": {},
   "source": [
    "# **5.**"
   ]
  },
  {
   "cell_type": "code",
   "execution_count": null,
   "metadata": {},
   "outputs": [],
   "source": [
    "CallCounts_df = pd.read_excel(\"CallCounts.xls\")\n",
    "CallCounts_df.head()"
   ]
  },
  {
   "cell_type": "code",
   "execution_count": null,
   "metadata": {},
   "outputs": [],
   "source": [
    "from sklearn.linear_model import LinearRegression"
   ]
  },
  {
   "cell_type": "code",
   "execution_count": null,
   "metadata": {},
   "outputs": [],
   "source": [
    "mean_calls = CallCounts_df.describe()[1:2]\n",
    "std_calls = CallCounts_df.describe()[2:3]"
   ]
  },
  {
   "cell_type": "code",
   "execution_count": null,
   "metadata": {},
   "outputs": [],
   "source": [
    "mean_calls = mean_calls.values[0]\n",
    "mean_calls\n"
   ]
  },
  {
   "cell_type": "code",
   "execution_count": null,
   "metadata": {},
   "outputs": [],
   "source": [
    "var_calls = std_calls.values[0]**2\n",
    "var_calls"
   ]
  },
  {
   "cell_type": "code",
   "execution_count": null,
   "metadata": {},
   "outputs": [],
   "source": [
    "mean_call_list = []\n",
    "mean_cum_sum = 0\n",
    "for call in mean_calls:\n",
    "    mean_cum_sum += call\n",
    "    mean_call_list.append(mean_cum_sum)"
   ]
  },
  {
   "cell_type": "code",
   "execution_count": null,
   "metadata": {},
   "outputs": [],
   "source": [
    "mean_call_list"
   ]
  },
  {
   "cell_type": "code",
   "execution_count": null,
   "metadata": {},
   "outputs": [],
   "source": [
    "var_call_list = []\n",
    "var_cum_sum = 0\n",
    "for call in var_calls:\n",
    "    var_cum_sum += call\n",
    "    var_call_list.append(var_cum_sum)\n"
   ]
  },
  {
   "cell_type": "code",
   "execution_count": null,
   "metadata": {},
   "outputs": [],
   "source": [
    "var_call_list"
   ]
  },
  {
   "cell_type": "code",
   "execution_count": null,
   "metadata": {},
   "outputs": [],
   "source": [
    "X = np.array(mean_call_list).reshape(-1,1)\n",
    "y = var_call_list\n",
    "\n",
    "model = LinearRegression()\n",
    "model.fit(X,y)\n",
    "predictions = model.predict(X)\n",
    "score = model.score(X,y)"
   ]
  },
  {
   "cell_type": "code",
   "execution_count": null,
   "metadata": {},
   "outputs": [],
   "source": [
    "plt.scatter(X, y)\n",
    "plt.plot(X, predictions, color='red')\n",
    "plt.title(\"Linear Regression of Call Data\")\n",
    "plt.xlabel(\"Mean Call\")\n",
    "plt.ylabel(\"Var Call\")\n",
    "plt.show()\n"
   ]
  },
  {
   "cell_type": "code",
   "execution_count": null,
   "metadata": {},
   "outputs": [],
   "source": [
    "results = pd.DataFrame( {\"Cumlative Sum\": mean_call_list, \"Regression Results\": predictions})\n",
    "results"
   ]
  },
  {
   "cell_type": "code",
   "execution_count": null,
   "metadata": {},
   "outputs": [],
   "source": [
    "print('Beta:', model.coef_[0])\n",
    "print(\"R^2:\", score)"
   ]
  }
 ],
 "metadata": {
  "kernelspec": {
   "display_name": "venv",
   "language": "python",
   "name": "python3"
  },
  "language_info": {
   "codemirror_mode": {
    "name": "ipython",
    "version": 3
   },
   "file_extension": ".py",
   "mimetype": "text/x-python",
   "name": "python",
   "nbconvert_exporter": "python",
   "pygments_lexer": "ipython3",
   "version": "3.9.12"
  },
  "orig_nbformat": 4
 },
 "nbformat": 4,
 "nbformat_minor": 2
}
